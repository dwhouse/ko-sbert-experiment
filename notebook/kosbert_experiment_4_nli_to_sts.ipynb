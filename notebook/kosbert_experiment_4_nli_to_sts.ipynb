{
  "nbformat": 4,
  "nbformat_minor": 0,
  "metadata": {
    "colab": {
      "provenance": [],
      "machine_shape": "hm",
      "gpuType": "A100"
    },
    "kernelspec": {
      "name": "python3",
      "display_name": "Python 3"
    },
    "language_info": {
      "name": "python"
    },
    "accelerator": "GPU",
    "widgets": {
      "application/vnd.jupyter.widget-state+json": {
        "e87d7c90650d4275902b1447d8b83489": {
          "model_module": "@jupyter-widgets/controls",
          "model_name": "HBoxModel",
          "model_module_version": "1.5.0",
          "state": {
            "_dom_classes": [],
            "_model_module": "@jupyter-widgets/controls",
            "_model_module_version": "1.5.0",
            "_model_name": "HBoxModel",
            "_view_count": null,
            "_view_module": "@jupyter-widgets/controls",
            "_view_module_version": "1.5.0",
            "_view_name": "HBoxView",
            "box_style": "",
            "children": [
              "IPY_MODEL_bfc9cabeb6ae487da18419a82f14447f",
              "IPY_MODEL_4f125af6573746d49c76301c559c0bc8",
              "IPY_MODEL_1ff481e79c5941f5a9f8f458e42625aa"
            ],
            "layout": "IPY_MODEL_822b272316ef437da56bfbeab3014414"
          }
        },
        "bfc9cabeb6ae487da18419a82f14447f": {
          "model_module": "@jupyter-widgets/controls",
          "model_name": "HTMLModel",
          "model_module_version": "1.5.0",
          "state": {
            "_dom_classes": [],
            "_model_module": "@jupyter-widgets/controls",
            "_model_module_version": "1.5.0",
            "_model_name": "HTMLModel",
            "_view_count": null,
            "_view_module": "@jupyter-widgets/controls",
            "_view_module_version": "1.5.0",
            "_view_name": "HTMLView",
            "description": "",
            "description_tooltip": null,
            "layout": "IPY_MODEL_8045cb06971445e096aa94f178126600",
            "placeholder": "​",
            "style": "IPY_MODEL_44671ab3258149bfa139fbeb8ae1b53c",
            "value": "Computing widget examples:   0%"
          }
        },
        "4f125af6573746d49c76301c559c0bc8": {
          "model_module": "@jupyter-widgets/controls",
          "model_name": "FloatProgressModel",
          "model_module_version": "1.5.0",
          "state": {
            "_dom_classes": [],
            "_model_module": "@jupyter-widgets/controls",
            "_model_module_version": "1.5.0",
            "_model_name": "FloatProgressModel",
            "_view_count": null,
            "_view_module": "@jupyter-widgets/controls",
            "_view_module_version": "1.5.0",
            "_view_name": "ProgressView",
            "bar_style": "",
            "description": "",
            "description_tooltip": null,
            "layout": "IPY_MODEL_7d3d2da6a71c424d85693aa2017cdaca",
            "max": 1,
            "min": 0,
            "orientation": "horizontal",
            "style": "IPY_MODEL_1f105cb3e88240c5a5c49528ba08063c",
            "value": 1
          }
        },
        "1ff481e79c5941f5a9f8f458e42625aa": {
          "model_module": "@jupyter-widgets/controls",
          "model_name": "HTMLModel",
          "model_module_version": "1.5.0",
          "state": {
            "_dom_classes": [],
            "_model_module": "@jupyter-widgets/controls",
            "_model_module_version": "1.5.0",
            "_model_name": "HTMLModel",
            "_view_count": null,
            "_view_module": "@jupyter-widgets/controls",
            "_view_module_version": "1.5.0",
            "_view_name": "HTMLView",
            "description": "",
            "description_tooltip": null,
            "layout": "IPY_MODEL_750b6d625f13401a810e9af4b4c0a062",
            "placeholder": "​",
            "style": "IPY_MODEL_6b4f68d34f674c94ad02ee0a723592b6",
            "value": " 0/1 [00:00&lt;?, ?example/s]"
          }
        },
        "822b272316ef437da56bfbeab3014414": {
          "model_module": "@jupyter-widgets/base",
          "model_name": "LayoutModel",
          "model_module_version": "1.2.0",
          "state": {
            "_model_module": "@jupyter-widgets/base",
            "_model_module_version": "1.2.0",
            "_model_name": "LayoutModel",
            "_view_count": null,
            "_view_module": "@jupyter-widgets/base",
            "_view_module_version": "1.2.0",
            "_view_name": "LayoutView",
            "align_content": null,
            "align_items": null,
            "align_self": null,
            "border": null,
            "bottom": null,
            "display": null,
            "flex": null,
            "flex_flow": null,
            "grid_area": null,
            "grid_auto_columns": null,
            "grid_auto_flow": null,
            "grid_auto_rows": null,
            "grid_column": null,
            "grid_gap": null,
            "grid_row": null,
            "grid_template_areas": null,
            "grid_template_columns": null,
            "grid_template_rows": null,
            "height": null,
            "justify_content": null,
            "justify_items": null,
            "left": null,
            "margin": null,
            "max_height": null,
            "max_width": null,
            "min_height": null,
            "min_width": null,
            "object_fit": null,
            "object_position": null,
            "order": null,
            "overflow": null,
            "overflow_x": null,
            "overflow_y": null,
            "padding": null,
            "right": null,
            "top": null,
            "visibility": "hidden",
            "width": null
          }
        },
        "8045cb06971445e096aa94f178126600": {
          "model_module": "@jupyter-widgets/base",
          "model_name": "LayoutModel",
          "model_module_version": "1.2.0",
          "state": {
            "_model_module": "@jupyter-widgets/base",
            "_model_module_version": "1.2.0",
            "_model_name": "LayoutModel",
            "_view_count": null,
            "_view_module": "@jupyter-widgets/base",
            "_view_module_version": "1.2.0",
            "_view_name": "LayoutView",
            "align_content": null,
            "align_items": null,
            "align_self": null,
            "border": null,
            "bottom": null,
            "display": null,
            "flex": null,
            "flex_flow": null,
            "grid_area": null,
            "grid_auto_columns": null,
            "grid_auto_flow": null,
            "grid_auto_rows": null,
            "grid_column": null,
            "grid_gap": null,
            "grid_row": null,
            "grid_template_areas": null,
            "grid_template_columns": null,
            "grid_template_rows": null,
            "height": null,
            "justify_content": null,
            "justify_items": null,
            "left": null,
            "margin": null,
            "max_height": null,
            "max_width": null,
            "min_height": null,
            "min_width": null,
            "object_fit": null,
            "object_position": null,
            "order": null,
            "overflow": null,
            "overflow_x": null,
            "overflow_y": null,
            "padding": null,
            "right": null,
            "top": null,
            "visibility": null,
            "width": null
          }
        },
        "44671ab3258149bfa139fbeb8ae1b53c": {
          "model_module": "@jupyter-widgets/controls",
          "model_name": "DescriptionStyleModel",
          "model_module_version": "1.5.0",
          "state": {
            "_model_module": "@jupyter-widgets/controls",
            "_model_module_version": "1.5.0",
            "_model_name": "DescriptionStyleModel",
            "_view_count": null,
            "_view_module": "@jupyter-widgets/base",
            "_view_module_version": "1.2.0",
            "_view_name": "StyleView",
            "description_width": ""
          }
        },
        "7d3d2da6a71c424d85693aa2017cdaca": {
          "model_module": "@jupyter-widgets/base",
          "model_name": "LayoutModel",
          "model_module_version": "1.2.0",
          "state": {
            "_model_module": "@jupyter-widgets/base",
            "_model_module_version": "1.2.0",
            "_model_name": "LayoutModel",
            "_view_count": null,
            "_view_module": "@jupyter-widgets/base",
            "_view_module_version": "1.2.0",
            "_view_name": "LayoutView",
            "align_content": null,
            "align_items": null,
            "align_self": null,
            "border": null,
            "bottom": null,
            "display": null,
            "flex": null,
            "flex_flow": null,
            "grid_area": null,
            "grid_auto_columns": null,
            "grid_auto_flow": null,
            "grid_auto_rows": null,
            "grid_column": null,
            "grid_gap": null,
            "grid_row": null,
            "grid_template_areas": null,
            "grid_template_columns": null,
            "grid_template_rows": null,
            "height": null,
            "justify_content": null,
            "justify_items": null,
            "left": null,
            "margin": null,
            "max_height": null,
            "max_width": null,
            "min_height": null,
            "min_width": null,
            "object_fit": null,
            "object_position": null,
            "order": null,
            "overflow": null,
            "overflow_x": null,
            "overflow_y": null,
            "padding": null,
            "right": null,
            "top": null,
            "visibility": null,
            "width": null
          }
        },
        "1f105cb3e88240c5a5c49528ba08063c": {
          "model_module": "@jupyter-widgets/controls",
          "model_name": "ProgressStyleModel",
          "model_module_version": "1.5.0",
          "state": {
            "_model_module": "@jupyter-widgets/controls",
            "_model_module_version": "1.5.0",
            "_model_name": "ProgressStyleModel",
            "_view_count": null,
            "_view_module": "@jupyter-widgets/base",
            "_view_module_version": "1.2.0",
            "_view_name": "StyleView",
            "bar_color": null,
            "description_width": ""
          }
        },
        "750b6d625f13401a810e9af4b4c0a062": {
          "model_module": "@jupyter-widgets/base",
          "model_name": "LayoutModel",
          "model_module_version": "1.2.0",
          "state": {
            "_model_module": "@jupyter-widgets/base",
            "_model_module_version": "1.2.0",
            "_model_name": "LayoutModel",
            "_view_count": null,
            "_view_module": "@jupyter-widgets/base",
            "_view_module_version": "1.2.0",
            "_view_name": "LayoutView",
            "align_content": null,
            "align_items": null,
            "align_self": null,
            "border": null,
            "bottom": null,
            "display": null,
            "flex": null,
            "flex_flow": null,
            "grid_area": null,
            "grid_auto_columns": null,
            "grid_auto_flow": null,
            "grid_auto_rows": null,
            "grid_column": null,
            "grid_gap": null,
            "grid_row": null,
            "grid_template_areas": null,
            "grid_template_columns": null,
            "grid_template_rows": null,
            "height": null,
            "justify_content": null,
            "justify_items": null,
            "left": null,
            "margin": null,
            "max_height": null,
            "max_width": null,
            "min_height": null,
            "min_width": null,
            "object_fit": null,
            "object_position": null,
            "order": null,
            "overflow": null,
            "overflow_x": null,
            "overflow_y": null,
            "padding": null,
            "right": null,
            "top": null,
            "visibility": null,
            "width": null
          }
        },
        "6b4f68d34f674c94ad02ee0a723592b6": {
          "model_module": "@jupyter-widgets/controls",
          "model_name": "DescriptionStyleModel",
          "model_module_version": "1.5.0",
          "state": {
            "_model_module": "@jupyter-widgets/controls",
            "_model_module_version": "1.5.0",
            "_model_name": "DescriptionStyleModel",
            "_view_count": null,
            "_view_module": "@jupyter-widgets/base",
            "_view_module_version": "1.2.0",
            "_view_name": "StyleView",
            "description_width": ""
          }
        }
      }
    }
  },
  "cells": [
    {
      "cell_type": "markdown",
      "source": [
        "#### 1. Library Install & Load / Basic Setting"
      ],
      "metadata": {
        "id": "QBjkrBL4BSiI"
      }
    },
    {
      "cell_type": "code",
      "source": [
        "!git clone https://github.com/UKPLab/sentence-transformers.git"
      ],
      "metadata": {
        "colab": {
          "base_uri": "https://localhost:8080/"
        },
        "id": "rIHuFtULhnk3",
        "outputId": "ffd95045-82a9-451b-c514-10f9f5da97f6"
      },
      "execution_count": 1,
      "outputs": [
        {
          "output_type": "stream",
          "name": "stdout",
          "text": [
            "Cloning into 'sentence-transformers'...\n",
            "remote: Enumerating objects: 11495, done.\u001b[K\n",
            "remote: Counting objects: 100% (3737/3737), done.\u001b[K\n",
            "remote: Compressing objects: 100% (939/939), done.\u001b[K\n",
            "remote: Total 11495 (delta 3279), reused 2806 (delta 2798), pack-reused 7758 (from 1)\u001b[K\n",
            "Receiving objects: 100% (11495/11495), 25.89 MiB | 26.56 MiB/s, done.\n",
            "Resolving deltas: 100% (8184/8184), done.\n"
          ]
        }
      ]
    },
    {
      "cell_type": "code",
      "source": [
        "!git clone https://github.com/kakaobrain/kor-nlu-datasets.git"
      ],
      "metadata": {
        "colab": {
          "base_uri": "https://localhost:8080/"
        },
        "id": "IcSEE1RfNd6A",
        "outputId": "9579663c-2452-4a54-da27-edb4419ba7a6"
      },
      "execution_count": 2,
      "outputs": [
        {
          "output_type": "stream",
          "name": "stdout",
          "text": [
            "Cloning into 'kor-nlu-datasets'...\n",
            "remote: Enumerating objects: 16, done.\u001b[K\n",
            "remote: Counting objects: 100% (2/2), done.\u001b[K\n",
            "remote: Total 16 (delta 1), reused 1 (delta 1), pack-reused 14 (from 1)\u001b[K\n",
            "Receiving objects: 100% (16/16), 46.67 MiB | 19.75 MiB/s, done.\n",
            "Resolving deltas: 100% (1/1), done.\n"
          ]
        }
      ]
    },
    {
      "cell_type": "code",
      "execution_count": 3,
      "metadata": {
        "id": "-el4Qz-QBKT8",
        "colab": {
          "base_uri": "https://localhost:8080/"
        },
        "outputId": "b907ee31-a153-4b4e-f279-6e4f2c274e5c"
      },
      "outputs": [
        {
          "output_type": "stream",
          "name": "stdout",
          "text": [
            "\u001b[?25l   \u001b[90m━━━━━━━━━━━━━━━━━━━━━━━━━━━━━━━━━━━━━━━━\u001b[0m \u001b[32m0.0/480.6 kB\u001b[0m \u001b[31m?\u001b[0m eta \u001b[36m-:--:--\u001b[0m\r\u001b[2K   \u001b[90m━━━━━━━━━━━━━━━━━━━━━━━━━━━━━━━━━━━━━━━━\u001b[0m \u001b[32m480.6/480.6 kB\u001b[0m \u001b[31m14.9 MB/s\u001b[0m eta \u001b[36m0:00:00\u001b[0m\n",
            "\u001b[?25h\u001b[?25l   \u001b[90m━━━━━━━━━━━━━━━━━━━━━━━━━━━━━━━━━━━━━━━━\u001b[0m \u001b[32m0.0/116.3 kB\u001b[0m \u001b[31m?\u001b[0m eta \u001b[36m-:--:--\u001b[0m\r\u001b[2K   \u001b[90m━━━━━━━━━━━━━━━━━━━━━━━━━━━━━━━━━━━━━━━━\u001b[0m \u001b[32m116.3/116.3 kB\u001b[0m \u001b[31m13.9 MB/s\u001b[0m eta \u001b[36m0:00:00\u001b[0m\n",
            "\u001b[?25h\u001b[?25l   \u001b[90m━━━━━━━━━━━━━━━━━━━━━━━━━━━━━━━━━━━━━━━━\u001b[0m \u001b[32m0.0/179.3 kB\u001b[0m \u001b[31m?\u001b[0m eta \u001b[36m-:--:--\u001b[0m\r\u001b[2K   \u001b[90m━━━━━━━━━━━━━━━━━━━━━━━━━━━━━━━━━━━━━━━━\u001b[0m \u001b[32m179.3/179.3 kB\u001b[0m \u001b[31m19.3 MB/s\u001b[0m eta \u001b[36m0:00:00\u001b[0m\n",
            "\u001b[?25h\u001b[?25l   \u001b[90m━━━━━━━━━━━━━━━━━━━━━━━━━━━━━━━━━━━━━━━━\u001b[0m \u001b[32m0.0/143.5 kB\u001b[0m \u001b[31m?\u001b[0m eta \u001b[36m-:--:--\u001b[0m\r\u001b[2K   \u001b[90m━━━━━━━━━━━━━━━━━━━━━━━━━━━━━━━━━━━━━━━━\u001b[0m \u001b[32m143.5/143.5 kB\u001b[0m \u001b[31m16.5 MB/s\u001b[0m eta \u001b[36m0:00:00\u001b[0m\n",
            "\u001b[?25h\u001b[?25l   \u001b[90m━━━━━━━━━━━━━━━━━━━━━━━━━━━━━━━━━━━━━━━━\u001b[0m \u001b[32m0.0/194.8 kB\u001b[0m \u001b[31m?\u001b[0m eta \u001b[36m-:--:--\u001b[0m\r\u001b[2K   \u001b[90m━━━━━━━━━━━━━━━━━━━━━━━━━━━━━━━━━━━━━━━━\u001b[0m \u001b[32m194.8/194.8 kB\u001b[0m \u001b[31m22.4 MB/s\u001b[0m eta \u001b[36m0:00:00\u001b[0m\n",
            "\u001b[?25h\u001b[31mERROR: pip's dependency resolver does not currently take into account all the packages that are installed. This behaviour is the source of the following dependency conflicts.\n",
            "gcsfs 2024.10.0 requires fsspec==2024.10.0, but you have fsspec 2024.9.0 which is incompatible.\u001b[0m\u001b[31m\n",
            "\u001b[0m"
          ]
        }
      ],
      "source": [
        "!pip install -q transformers datasets"
      ]
    },
    {
      "cell_type": "code",
      "source": [
        "!pip uninstall sentence_transformers"
      ],
      "metadata": {
        "colab": {
          "base_uri": "https://localhost:8080/"
        },
        "id": "3pAK2CCMjpcK",
        "outputId": "98256bb9-eb11-48d0-ed5c-94edad1c95f4"
      },
      "execution_count": 4,
      "outputs": [
        {
          "output_type": "stream",
          "name": "stdout",
          "text": [
            "Found existing installation: sentence-transformers 3.3.1\n",
            "Uninstalling sentence-transformers-3.3.1:\n",
            "  Would remove:\n",
            "    /usr/local/lib/python3.11/dist-packages/sentence_transformers-3.3.1.dist-info/*\n",
            "    /usr/local/lib/python3.11/dist-packages/sentence_transformers/*\n",
            "Proceed (Y/n)? Y\n",
            "  Successfully uninstalled sentence-transformers-3.3.1\n"
          ]
        }
      ]
    },
    {
      "cell_type": "code",
      "source": [
        "%cd sentence-transformers"
      ],
      "metadata": {
        "colab": {
          "base_uri": "https://localhost:8080/"
        },
        "id": "3P9putlEkoOt",
        "outputId": "95de6a73-5c81-4e71-fa9a-bdca4f178104"
      },
      "execution_count": 5,
      "outputs": [
        {
          "output_type": "stream",
          "name": "stdout",
          "text": [
            "/content/sentence-transformers\n"
          ]
        }
      ]
    },
    {
      "cell_type": "code",
      "source": [
        "!pip install -e ."
      ],
      "metadata": {
        "colab": {
          "base_uri": "https://localhost:8080/"
        },
        "collapsed": true,
        "id": "Qq8H-dgFksk7",
        "outputId": "6211e548-39ec-4ae3-f15e-a6cc20365ec7"
      },
      "execution_count": 6,
      "outputs": [
        {
          "output_type": "stream",
          "name": "stdout",
          "text": [
            "Obtaining file:///content/sentence-transformers\n",
            "  Installing build dependencies ... \u001b[?25l\u001b[?25hdone\n",
            "  Checking if build backend supports build_editable ... \u001b[?25l\u001b[?25hdone\n",
            "  Getting requirements to build editable ... \u001b[?25l\u001b[?25hdone\n",
            "  Preparing editable metadata (pyproject.toml) ... \u001b[?25l\u001b[?25hdone\n",
            "Requirement already satisfied: transformers<5.0.0,>=4.41.0 in /usr/local/lib/python3.11/dist-packages (from sentence-transformers==3.4.0.dev0) (4.47.1)\n",
            "Requirement already satisfied: tqdm in /usr/local/lib/python3.11/dist-packages (from sentence-transformers==3.4.0.dev0) (4.67.1)\n",
            "Requirement already satisfied: torch>=1.11.0 in /usr/local/lib/python3.11/dist-packages (from sentence-transformers==3.4.0.dev0) (2.5.1+cu121)\n",
            "Requirement already satisfied: scikit-learn in /usr/local/lib/python3.11/dist-packages (from sentence-transformers==3.4.0.dev0) (1.6.0)\n",
            "Requirement already satisfied: scipy in /usr/local/lib/python3.11/dist-packages (from sentence-transformers==3.4.0.dev0) (1.13.1)\n",
            "Requirement already satisfied: huggingface-hub>=0.20.0 in /usr/local/lib/python3.11/dist-packages (from sentence-transformers==3.4.0.dev0) (0.27.1)\n",
            "Requirement already satisfied: Pillow in /usr/local/lib/python3.11/dist-packages (from sentence-transformers==3.4.0.dev0) (11.1.0)\n",
            "Requirement already satisfied: filelock in /usr/local/lib/python3.11/dist-packages (from huggingface-hub>=0.20.0->sentence-transformers==3.4.0.dev0) (3.16.1)\n",
            "Requirement already satisfied: fsspec>=2023.5.0 in /usr/local/lib/python3.11/dist-packages (from huggingface-hub>=0.20.0->sentence-transformers==3.4.0.dev0) (2024.9.0)\n",
            "Requirement already satisfied: packaging>=20.9 in /usr/local/lib/python3.11/dist-packages (from huggingface-hub>=0.20.0->sentence-transformers==3.4.0.dev0) (24.2)\n",
            "Requirement already satisfied: pyyaml>=5.1 in /usr/local/lib/python3.11/dist-packages (from huggingface-hub>=0.20.0->sentence-transformers==3.4.0.dev0) (6.0.2)\n",
            "Requirement already satisfied: requests in /usr/local/lib/python3.11/dist-packages (from huggingface-hub>=0.20.0->sentence-transformers==3.4.0.dev0) (2.32.3)\n",
            "Requirement already satisfied: typing-extensions>=3.7.4.3 in /usr/local/lib/python3.11/dist-packages (from huggingface-hub>=0.20.0->sentence-transformers==3.4.0.dev0) (4.12.2)\n",
            "Requirement already satisfied: networkx in /usr/local/lib/python3.11/dist-packages (from torch>=1.11.0->sentence-transformers==3.4.0.dev0) (3.4.2)\n",
            "Requirement already satisfied: jinja2 in /usr/local/lib/python3.11/dist-packages (from torch>=1.11.0->sentence-transformers==3.4.0.dev0) (3.1.5)\n",
            "Requirement already satisfied: nvidia-cuda-nvrtc-cu12==12.1.105 in /usr/local/lib/python3.11/dist-packages (from torch>=1.11.0->sentence-transformers==3.4.0.dev0) (12.1.105)\n",
            "Requirement already satisfied: nvidia-cuda-runtime-cu12==12.1.105 in /usr/local/lib/python3.11/dist-packages (from torch>=1.11.0->sentence-transformers==3.4.0.dev0) (12.1.105)\n",
            "Requirement already satisfied: nvidia-cuda-cupti-cu12==12.1.105 in /usr/local/lib/python3.11/dist-packages (from torch>=1.11.0->sentence-transformers==3.4.0.dev0) (12.1.105)\n",
            "Requirement already satisfied: nvidia-cudnn-cu12==9.1.0.70 in /usr/local/lib/python3.11/dist-packages (from torch>=1.11.0->sentence-transformers==3.4.0.dev0) (9.1.0.70)\n",
            "Requirement already satisfied: nvidia-cublas-cu12==12.1.3.1 in /usr/local/lib/python3.11/dist-packages (from torch>=1.11.0->sentence-transformers==3.4.0.dev0) (12.1.3.1)\n",
            "Requirement already satisfied: nvidia-cufft-cu12==11.0.2.54 in /usr/local/lib/python3.11/dist-packages (from torch>=1.11.0->sentence-transformers==3.4.0.dev0) (11.0.2.54)\n",
            "Requirement already satisfied: nvidia-curand-cu12==10.3.2.106 in /usr/local/lib/python3.11/dist-packages (from torch>=1.11.0->sentence-transformers==3.4.0.dev0) (10.3.2.106)\n",
            "Requirement already satisfied: nvidia-cusolver-cu12==11.4.5.107 in /usr/local/lib/python3.11/dist-packages (from torch>=1.11.0->sentence-transformers==3.4.0.dev0) (11.4.5.107)\n",
            "Requirement already satisfied: nvidia-cusparse-cu12==12.1.0.106 in /usr/local/lib/python3.11/dist-packages (from torch>=1.11.0->sentence-transformers==3.4.0.dev0) (12.1.0.106)\n",
            "Requirement already satisfied: nvidia-nccl-cu12==2.21.5 in /usr/local/lib/python3.11/dist-packages (from torch>=1.11.0->sentence-transformers==3.4.0.dev0) (2.21.5)\n",
            "Requirement already satisfied: nvidia-nvtx-cu12==12.1.105 in /usr/local/lib/python3.11/dist-packages (from torch>=1.11.0->sentence-transformers==3.4.0.dev0) (12.1.105)\n",
            "Requirement already satisfied: triton==3.1.0 in /usr/local/lib/python3.11/dist-packages (from torch>=1.11.0->sentence-transformers==3.4.0.dev0) (3.1.0)\n",
            "Requirement already satisfied: sympy==1.13.1 in /usr/local/lib/python3.11/dist-packages (from torch>=1.11.0->sentence-transformers==3.4.0.dev0) (1.13.1)\n",
            "Requirement already satisfied: nvidia-nvjitlink-cu12 in /usr/local/lib/python3.11/dist-packages (from nvidia-cusolver-cu12==11.4.5.107->torch>=1.11.0->sentence-transformers==3.4.0.dev0) (12.6.85)\n",
            "Requirement already satisfied: mpmath<1.4,>=1.1.0 in /usr/local/lib/python3.11/dist-packages (from sympy==1.13.1->torch>=1.11.0->sentence-transformers==3.4.0.dev0) (1.3.0)\n",
            "Requirement already satisfied: numpy>=1.17 in /usr/local/lib/python3.11/dist-packages (from transformers<5.0.0,>=4.41.0->sentence-transformers==3.4.0.dev0) (1.26.4)\n",
            "Requirement already satisfied: regex!=2019.12.17 in /usr/local/lib/python3.11/dist-packages (from transformers<5.0.0,>=4.41.0->sentence-transformers==3.4.0.dev0) (2024.11.6)\n",
            "Requirement already satisfied: tokenizers<0.22,>=0.21 in /usr/local/lib/python3.11/dist-packages (from transformers<5.0.0,>=4.41.0->sentence-transformers==3.4.0.dev0) (0.21.0)\n",
            "Requirement already satisfied: safetensors>=0.4.1 in /usr/local/lib/python3.11/dist-packages (from transformers<5.0.0,>=4.41.0->sentence-transformers==3.4.0.dev0) (0.5.2)\n",
            "Requirement already satisfied: joblib>=1.2.0 in /usr/local/lib/python3.11/dist-packages (from scikit-learn->sentence-transformers==3.4.0.dev0) (1.4.2)\n",
            "Requirement already satisfied: threadpoolctl>=3.1.0 in /usr/local/lib/python3.11/dist-packages (from scikit-learn->sentence-transformers==3.4.0.dev0) (3.5.0)\n",
            "Requirement already satisfied: MarkupSafe>=2.0 in /usr/local/lib/python3.11/dist-packages (from jinja2->torch>=1.11.0->sentence-transformers==3.4.0.dev0) (3.0.2)\n",
            "Requirement already satisfied: charset-normalizer<4,>=2 in /usr/local/lib/python3.11/dist-packages (from requests->huggingface-hub>=0.20.0->sentence-transformers==3.4.0.dev0) (3.4.1)\n",
            "Requirement already satisfied: idna<4,>=2.5 in /usr/local/lib/python3.11/dist-packages (from requests->huggingface-hub>=0.20.0->sentence-transformers==3.4.0.dev0) (3.10)\n",
            "Requirement already satisfied: urllib3<3,>=1.21.1 in /usr/local/lib/python3.11/dist-packages (from requests->huggingface-hub>=0.20.0->sentence-transformers==3.4.0.dev0) (2.3.0)\n",
            "Requirement already satisfied: certifi>=2017.4.17 in /usr/local/lib/python3.11/dist-packages (from requests->huggingface-hub>=0.20.0->sentence-transformers==3.4.0.dev0) (2024.12.14)\n",
            "Building wheels for collected packages: sentence-transformers\n",
            "  Building editable for sentence-transformers (pyproject.toml) ... \u001b[?25l\u001b[?25hdone\n",
            "  Created wheel for sentence-transformers: filename=sentence_transformers-3.4.0.dev0-0.editable-py3-none-any.whl size=10980 sha256=9490a569e800f129ea0e7b9838798db6cd31cd03bcb9de7a7e500291ee9065ce\n",
            "  Stored in directory: /tmp/pip-ephem-wheel-cache-kpdqcbiz/wheels/20/79/ec/b839e68c83b7f73dfbf15cf4f989275c8d4eed6b3e247eecbd\n",
            "Successfully built sentence-transformers\n",
            "Installing collected packages: sentence-transformers\n",
            "Successfully installed sentence-transformers-3.4.0.dev0\n"
          ]
        }
      ]
    },
    {
      "cell_type": "code",
      "source": [
        "import sys\n",
        "import os\n",
        "\n",
        "# 현재 워킹 디렉토리를 /content로 변경\n",
        "os.chdir(\"/content\")\n",
        "\n",
        "# sentence-transformers 폴더의 경로를 sys.path에 추가\n",
        "sys.path.append(\"/content/sentence-transformers\")"
      ],
      "metadata": {
        "id": "oIVz1kgYkd06"
      },
      "execution_count": 7,
      "outputs": []
    },
    {
      "cell_type": "code",
      "source": [
        "import os\n",
        "import csv\n",
        "import math\n",
        "import torch\n",
        "import random\n",
        "import logging\n",
        "import numpy as np\n",
        "\n",
        "from datasets import Dataset\n",
        "from datetime import datetime\n",
        "from torch.utils.data import DataLoader\n",
        "\n",
        "from sentence_transformers import (\n",
        "    SentenceTransformer,\n",
        "    LoggingHandler,\n",
        "    datasets,\n",
        "    models,\n",
        "    losses,\n",
        ")\n",
        "from sentence_transformers.evaluation import EmbeddingSimilarityEvaluator\n",
        "from sentence_transformers.evaluation import SimilarityFunction\n",
        "from sentence_transformers.readers import InputExample"
      ],
      "metadata": {
        "id": "Jk0C9Xh7Bg-r"
      },
      "execution_count": 8,
      "outputs": []
    },
    {
      "cell_type": "code",
      "source": [
        "# 로거 설정\n",
        "log_file = \"log_output.txt\"\n",
        "\n",
        "logging.basicConfig(\n",
        "    format='%(asctime)s - %(message)s',\n",
        "    datefmt='%Y-%m-%d %H:%M:%S',\n",
        "    level=logging.INFO,\n",
        "    handlers=[\n",
        "        logging.FileHandler(log_file),  # 파일 핸들러로 로그를 파일에 기록\n",
        "        logging.StreamHandler()        # 콘솔에도 출력\n",
        "    ]\n",
        ")\n",
        "\n",
        "# 시드 고정\n",
        "SEED = 777\n",
        "random.seed(SEED)\n",
        "np.random.seed(SEED)\n",
        "torch.manual_seed(SEED)\n",
        "torch.cuda.manual_seed(SEED)"
      ],
      "metadata": {
        "id": "FMxIoM8P0-ud"
      },
      "execution_count": 9,
      "outputs": []
    },
    {
      "cell_type": "code",
      "source": [
        "# 데이터 경로 설정\n",
        "KORNLI_PATH = '/content/kor-nlu-datasets/KorNLI'\n",
        "KORSTS_PATH = '/content/kor-nlu-datasets/KorSTS'\n",
        "OUTPUT_DIR = 'output'"
      ],
      "metadata": {
        "id": "hBc6KTYKN4_w"
      },
      "execution_count": 10,
      "outputs": []
    },
    {
      "cell_type": "code",
      "source": [
        "final_scores = {}"
      ],
      "metadata": {
        "id": "XQ0Ca-Hlkyqh"
      },
      "execution_count": 11,
      "outputs": []
    },
    {
      "cell_type": "code",
      "source": [
        "logging.info(\"설정 및 라이브러리, 데이터 git 복제 완료.\")"
      ],
      "metadata": {
        "id": "qTohIFqPOHBt"
      },
      "execution_count": 12,
      "outputs": []
    },
    {
      "cell_type": "code",
      "source": [
        "# KorSTS 데이터셋을 읽어와 InputExample 리스트를 반환\n",
        "def load_kor_sts_samples(filename):\n",
        "    samples = []\n",
        "    with open(filename, 'rt', encoding='utf-8') as fIn:\n",
        "        reader = csv.DictReader(fIn, delimiter='\\t', quoting=csv.QUOTE_NONE)\n",
        "        for row in reader:\n",
        "            score = float(row['score']) / 5.0 # Normalize\n",
        "            samples.append(InputExample(texts=[row['sentence1'], row['sentence2']], label=score))\n",
        "    return samples"
      ],
      "metadata": {
        "id": "pVWM4bk8ORHu"
      },
      "execution_count": 13,
      "outputs": []
    },
    {
      "cell_type": "code",
      "source": [
        "def load_kor_nli_samples(filename):\n",
        "    \"\"\"\n",
        "    KorNLI 데이터를 읽어와서, Entailment vs Contradiction를 이용해\n",
        "    MultipleNegativesRankingLoss에 맞는 형태(InputExample)를 생성.\n",
        "    \"\"\"\n",
        "    data = {}\n",
        "    def add_to_samples(sent1, sent2, label):\n",
        "        if sent1 not in data:\n",
        "            data[sent1] = {'contradiction': set(), 'entailment': set(), 'neutral': set()}\n",
        "        data[sent1][label].add(sent2)\n",
        "\n",
        "    with open(filename, 'r', encoding='utf-8') as fIn:\n",
        "        reader = csv.DictReader(fIn, delimiter='\\t', quoting=csv.QUOTE_NONE)\n",
        "        for row in reader:\n",
        "            sent1 = row['sentence1'].strip()\n",
        "            sent2 = row['sentence2'].strip()\n",
        "            gold_label = row['gold_label'].strip()\n",
        "            if gold_label not in ['entailment','contradiction','neutral']:\n",
        "                # 혹시 라벨이 이상하면 건너뛰기\n",
        "                continue\n",
        "            add_to_samples(sent1, sent2, gold_label)\n",
        "            add_to_samples(sent2, sent1, gold_label)\n",
        "\n",
        "    samples = []\n",
        "    for sent1, labels_dict in data.items():\n",
        "        # entailment/contradiction이 각각 하나 이상 있어야 hard negative 구성 가능\n",
        "        if len(labels_dict['entailment'])>0 and len(labels_dict['contradiction'])>0:\n",
        "            pos = random.choice(list(labels_dict['entailment']))\n",
        "            neg = random.choice(list(labels_dict['contradiction']))\n",
        "            samples.append(InputExample(texts=[sent1, pos, neg]))\n",
        "\n",
        "            # sent1을 가운데 두고, pos가 앞뒤로 바뀐 또다른 예시도 추가\n",
        "            # (Optional - 다양하게 hard negative샘플을 늘릴 수 있음)\n",
        "            samples.append(InputExample(texts=[pos, sent1, neg]))\n",
        "\n",
        "    return samples"
      ],
      "metadata": {
        "id": "9918hez2r-jU"
      },
      "execution_count": 14,
      "outputs": []
    },
    {
      "cell_type": "code",
      "source": [
        "logging.info(\"Data Utilize(Pre-Processing) / Sample Extraction 완료\")"
      ],
      "metadata": {
        "id": "mVAiaTauQyOg"
      },
      "execution_count": 15,
      "outputs": []
    },
    {
      "cell_type": "code",
      "source": [
        "def evaluate_on_sts_test(model_path, batch_size=64):\n",
        "    \"\"\"\n",
        "    주어진 model_path에 있는 모델을 로드하고\n",
        "    KorSTS Test 세트로 EmbeddingSimilarityEvaluator 시행 후\n",
        "    최종 스코어를 반환합니다.\n",
        "    \"\"\"\n",
        "    test_file_sts = os.path.join(KORSTS_PATH, \"sts-test.tsv\")\n",
        "    test_samples_sts = load_kor_sts_samples(test_file_sts)\n",
        "    test_evaluator = EmbeddingSimilarityEvaluator.from_input_examples(\n",
        "        test_samples_sts,\n",
        "        batch_size=batch_size,\n",
        "        name='sts-test'\n",
        "    )\n",
        "\n",
        "    model = SentenceTransformer(model_path)\n",
        "    score = test_evaluator(model)\n",
        "    return score"
      ],
      "metadata": {
        "id": "E0QlTNrGlsnk"
      },
      "execution_count": 16,
      "outputs": []
    },
    {
      "cell_type": "code",
      "source": [
        "import zipfile\n",
        "import os\n",
        "\n",
        "# 1. 압축 해제\n",
        "zip_file_path = \"/content/output.zip\"\n",
        "extract_path = \"/content/output\"\n",
        "\n",
        "with zipfile.ZipFile(zip_file_path, 'r') as zip_ref:\n",
        "    zip_ref.extractall(extract_path)\n",
        "print(f\"압축 해제 완료: {extract_path}\")\n",
        "\n",
        "# 2. 원본 zip 파일 삭제\n",
        "os.remove(zip_file_path)\n",
        "print(f\"{zip_file_path} 삭제 완료.\")"
      ],
      "metadata": {
        "colab": {
          "base_uri": "https://localhost:8080/"
        },
        "id": "bY7_ogS82cxr",
        "outputId": "ca84c4b1-cb3e-48bf-87dd-64fa9c7971b9"
      },
      "execution_count": 18,
      "outputs": [
        {
          "output_type": "stream",
          "name": "stdout",
          "text": [
            "압축 해제 완료: /content/output\n",
            "/content/output.zip 삭제 완료.\n"
          ]
        }
      ]
    },
    {
      "cell_type": "code",
      "source": [
        "# 3. 모델 경로 설정 (01-17 경로로 설정)\n",
        "nli_model_path = \"output/nli-only-klue-roberta-base-01-17\""
      ],
      "metadata": {
        "id": "7YWfsoTd_ZPd"
      },
      "execution_count": 22,
      "outputs": []
    },
    {
      "cell_type": "code",
      "source": [
        "##################################################\n",
        "# 실험 4: NLI -> STS                             #\n",
        "##################################################\n",
        "def train_nli_then_sts(\n",
        "    nli_model_path,  # 실험 2에서 학습 완료된 모델 경로\n",
        "    max_seq_length=128,\n",
        "    batch_size=16,\n",
        "    num_epochs=4,\n",
        "    output_dir=OUTPUT_DIR\n",
        "):\n",
        "    \"\"\"\n",
        "    4) NLI -> STS 실험\n",
        "       이미 NLI로 학습된 모델(실험2 결과)을 불러와 STS 학습 진행\n",
        "    \"\"\"\n",
        "\n",
        "    model_save_path = os.path.join(\n",
        "        output_dir,\n",
        "        f\"nli-to-sts-{datetime.now().strftime('%Y-%m-%d')}\"\n",
        "    )\n",
        "    logging.info(f\"[NLI->STS] 모델 세이브 경로: {model_save_path}\")\n",
        "\n",
        "    # 4-1) NLI로 학습된 모델 로드\n",
        "    model = SentenceTransformer(nli_model_path)\n",
        "    logging.info(f\"[NLI->STS] Pre-trained NLI 모델 로드 완료: {nli_model_path}\")\n",
        "\n",
        "    # 4-2) KorSTS 데이터로 파인튜닝\n",
        "    train_file_sts = os.path.join(KORSTS_PATH, \"sts-train.tsv\")\n",
        "    dev_file_sts   = os.path.join(KORSTS_PATH, \"sts-dev.tsv\")\n",
        "\n",
        "    train_samples_sts = load_kor_sts_samples(train_file_sts)\n",
        "    dev_samples_sts   = load_kor_sts_samples(dev_file_sts)\n",
        "\n",
        "    train_dataloader = DataLoader(train_samples_sts, shuffle=True, batch_size=batch_size)\n",
        "    train_loss = losses.CosineSimilarityLoss(model=model)\n",
        "\n",
        "    dev_evaluator = EmbeddingSimilarityEvaluator.from_input_examples(dev_samples_sts, batch_size=batch_size, name='sts-dev')\n",
        "\n",
        "    warmup_steps = math.ceil(len(train_dataloader) * num_epochs * 0.1)\n",
        "    logging.info(f\"NLI->STS warmup steps: {warmup_steps}\")\n",
        "\n",
        "    model.fit(\n",
        "        train_objectives=[(train_dataloader, train_loss)],\n",
        "        evaluator=dev_evaluator,\n",
        "        epochs=num_epochs,\n",
        "        evaluation_steps=1000,\n",
        "        warmup_steps=warmup_steps,\n",
        "        output_path=model_save_path\n",
        "    )\n",
        "    logging.info(\"[NLI->STS] 학습 완료!\")\n",
        "    return model_save_path"
      ],
      "metadata": {
        "id": "J0QuWsWwrAom"
      },
      "execution_count": 23,
      "outputs": []
    },
    {
      "cell_type": "code",
      "source": [
        "# -- 실험 4: NLI -> STS\n",
        "nli_sts_path = train_nli_then_sts(\n",
        "    nli_model_path=nli_model_path,\n",
        "    max_seq_length=128,\n",
        "    batch_size=16,\n",
        "    num_epochs=4,\n",
        "    output_dir=OUTPUT_DIR\n",
        ")\n",
        "final_scores['nli_then_sts'] = evaluate_on_sts_test(nli_sts_path, batch_size=8)\n",
        "print(f\"[NLI->STS] Test Score: {final_scores['nli_then_sts']}\")\n",
        "print(nli_sts_path)"
      ],
      "metadata": {
        "colab": {
          "base_uri": "https://localhost:8080/",
          "height": 615,
          "referenced_widgets": [
            "e87d7c90650d4275902b1447d8b83489",
            "bfc9cabeb6ae487da18419a82f14447f",
            "4f125af6573746d49c76301c559c0bc8",
            "1ff481e79c5941f5a9f8f458e42625aa",
            "822b272316ef437da56bfbeab3014414",
            "8045cb06971445e096aa94f178126600",
            "44671ab3258149bfa139fbeb8ae1b53c",
            "7d3d2da6a71c424d85693aa2017cdaca",
            "1f105cb3e88240c5a5c49528ba08063c",
            "750b6d625f13401a810e9af4b4c0a062",
            "6b4f68d34f674c94ad02ee0a723592b6"
          ]
        },
        "id": "TZCwSTux2Q8_",
        "outputId": "5ae916db-3e5a-483c-8664-027be32bae2b"
      },
      "execution_count": 24,
      "outputs": [
        {
          "output_type": "stream",
          "name": "stderr",
          "text": [
            "/usr/local/lib/python3.11/dist-packages/huggingface_hub/utils/_auth.py:94: UserWarning: \n",
            "The secret `HF_TOKEN` does not exist in your Colab secrets.\n",
            "To authenticate with the Hugging Face Hub, create a token in your settings tab (https://huggingface.co/settings/tokens), set it as secret in your Google Colab and restart your session.\n",
            "You will be able to reuse this secret in all of your notebooks.\n",
            "Please note that authentication is recommended but still optional to access public models or datasets.\n",
            "  warnings.warn(\n"
          ]
        },
        {
          "output_type": "display_data",
          "data": {
            "text/plain": [
              "Computing widget examples:   0%|          | 0/1 [00:00<?, ?example/s]"
            ],
            "application/vnd.jupyter.widget-view+json": {
              "version_major": 2,
              "version_minor": 0,
              "model_id": "e87d7c90650d4275902b1447d8b83489"
            }
          },
          "metadata": {}
        },
        {
          "output_type": "stream",
          "name": "stderr",
          "text": [
            "\u001b[34m\u001b[1mwandb\u001b[0m: \u001b[33mWARNING\u001b[0m The `run_name` is currently set to the same value as `TrainingArguments.output_dir`. If this was not intended, please specify a different run name by setting the `TrainingArguments.run_name` parameter.\n"
          ]
        },
        {
          "output_type": "display_data",
          "data": {
            "text/plain": [
              "<IPython.core.display.Javascript object>"
            ],
            "application/javascript": [
              "\n",
              "        window._wandbApiKey = new Promise((resolve, reject) => {\n",
              "            function loadScript(url) {\n",
              "            return new Promise(function(resolve, reject) {\n",
              "                let newScript = document.createElement(\"script\");\n",
              "                newScript.onerror = reject;\n",
              "                newScript.onload = resolve;\n",
              "                document.body.appendChild(newScript);\n",
              "                newScript.src = url;\n",
              "            });\n",
              "            }\n",
              "            loadScript(\"https://cdn.jsdelivr.net/npm/postmate/build/postmate.min.js\").then(() => {\n",
              "            const iframe = document.createElement('iframe')\n",
              "            iframe.style.cssText = \"width:0;height:0;border:none\"\n",
              "            document.body.appendChild(iframe)\n",
              "            const handshake = new Postmate({\n",
              "                container: iframe,\n",
              "                url: 'https://wandb.ai/authorize'\n",
              "            });\n",
              "            const timeout = setTimeout(() => reject(\"Couldn't auto authenticate\"), 5000)\n",
              "            handshake.then(function(child) {\n",
              "                child.on('authorize', data => {\n",
              "                    clearTimeout(timeout)\n",
              "                    resolve(data)\n",
              "                });\n",
              "            });\n",
              "            })\n",
              "        });\n",
              "    "
            ]
          },
          "metadata": {}
        },
        {
          "output_type": "stream",
          "name": "stderr",
          "text": [
            "\u001b[34m\u001b[1mwandb\u001b[0m: Logging into wandb.ai. (Learn how to deploy a W&B server locally: https://wandb.me/wandb-server)\n",
            "\u001b[34m\u001b[1mwandb\u001b[0m: You can find your API key in your browser here: https://wandb.ai/authorize\n",
            "wandb: Paste an API key from your profile and hit enter, or press ctrl+c to quit:"
          ]
        },
        {
          "name": "stdout",
          "output_type": "stream",
          "text": [
            " ··········\n"
          ]
        },
        {
          "output_type": "stream",
          "name": "stderr",
          "text": [
            "\u001b[34m\u001b[1mwandb\u001b[0m: Appending key for api.wandb.ai to your netrc file: /root/.netrc\n",
            "\u001b[34m\u001b[1mwandb\u001b[0m: Using wandb-core as the SDK backend.  Please refer to https://wandb.me/wandb-core for more information.\n"
          ]
        },
        {
          "output_type": "display_data",
          "data": {
            "text/plain": [
              "<IPython.core.display.HTML object>"
            ],
            "text/html": [
              "Tracking run with wandb version 0.19.2"
            ]
          },
          "metadata": {}
        },
        {
          "output_type": "display_data",
          "data": {
            "text/plain": [
              "<IPython.core.display.HTML object>"
            ],
            "text/html": [
              "Run data is saved locally in <code>/content/wandb/run-20250117_020220-gzkav677</code>"
            ]
          },
          "metadata": {}
        },
        {
          "output_type": "display_data",
          "data": {
            "text/plain": [
              "<IPython.core.display.HTML object>"
            ],
            "text/html": [
              "Syncing run <strong><a href='https://wandb.ai/dwhouse/sentence-transformers/runs/gzkav677' target=\"_blank\">checkpoints/model</a></strong> to <a href='https://wandb.ai/dwhouse/sentence-transformers' target=\"_blank\">Weights & Biases</a> (<a href='https://wandb.me/developer-guide' target=\"_blank\">docs</a>)<br>"
            ]
          },
          "metadata": {}
        },
        {
          "output_type": "display_data",
          "data": {
            "text/plain": [
              "<IPython.core.display.HTML object>"
            ],
            "text/html": [
              " View project at <a href='https://wandb.ai/dwhouse/sentence-transformers' target=\"_blank\">https://wandb.ai/dwhouse/sentence-transformers</a>"
            ]
          },
          "metadata": {}
        },
        {
          "output_type": "display_data",
          "data": {
            "text/plain": [
              "<IPython.core.display.HTML object>"
            ],
            "text/html": [
              " View run at <a href='https://wandb.ai/dwhouse/sentence-transformers/runs/gzkav677' target=\"_blank\">https://wandb.ai/dwhouse/sentence-transformers/runs/gzkav677</a>"
            ]
          },
          "metadata": {}
        },
        {
          "output_type": "display_data",
          "data": {
            "text/plain": [
              "<IPython.core.display.HTML object>"
            ],
            "text/html": [
              "\n",
              "    <div>\n",
              "      \n",
              "      <progress value='1440' max='1440' style='width:300px; height:20px; vertical-align: middle;'></progress>\n",
              "      [1440/1440 02:01, Epoch 4/4]\n",
              "    </div>\n",
              "    <table border=\"1\" class=\"dataframe\">\n",
              "  <thead>\n",
              " <tr style=\"text-align: left;\">\n",
              "      <th>Step</th>\n",
              "      <th>Training Loss</th>\n",
              "      <th>Validation Loss</th>\n",
              "      <th>Sts-dev Pearson Cosine</th>\n",
              "      <th>Sts-dev Spearman Cosine</th>\n",
              "    </tr>\n",
              "  </thead>\n",
              "  <tbody>\n",
              "    <tr>\n",
              "      <td>360</td>\n",
              "      <td>No log</td>\n",
              "      <td>No log</td>\n",
              "      <td>0.868666</td>\n",
              "      <td>0.868639</td>\n",
              "    </tr>\n",
              "    <tr>\n",
              "      <td>720</td>\n",
              "      <td>0.024500</td>\n",
              "      <td>No log</td>\n",
              "      <td>0.874131</td>\n",
              "      <td>0.875121</td>\n",
              "    </tr>\n",
              "    <tr>\n",
              "      <td>1000</td>\n",
              "      <td>0.011300</td>\n",
              "      <td>No log</td>\n",
              "      <td>0.878711</td>\n",
              "      <td>0.877995</td>\n",
              "    </tr>\n",
              "    <tr>\n",
              "      <td>1080</td>\n",
              "      <td>0.011300</td>\n",
              "      <td>No log</td>\n",
              "      <td>0.878163</td>\n",
              "      <td>0.877612</td>\n",
              "    </tr>\n",
              "    <tr>\n",
              "      <td>1440</td>\n",
              "      <td>0.011300</td>\n",
              "      <td>No log</td>\n",
              "      <td>0.878989</td>\n",
              "      <td>0.878044</td>\n",
              "    </tr>\n",
              "  </tbody>\n",
              "</table><p>"
            ]
          },
          "metadata": {}
        },
        {
          "output_type": "stream",
          "name": "stdout",
          "text": [
            "[NLI->STS] Test Score: {'sts-test_pearson_cosine': 0.8492899426478029, 'sts-test_spearman_cosine': 0.8554136874109158}\n",
            "output/nli-to-sts-2025-01-17\n"
          ]
        }
      ]
    },
    {
      "cell_type": "code",
      "source": [
        "import shutil\n",
        "\n",
        "# 압축할 폴더와 생성할 zip 파일 경로 설정\n",
        "folder_to_zip = \"/content/output\"\n",
        "zip_file_path = \"/content/output.zip\"\n",
        "\n",
        "# 폴더를 압축\n",
        "shutil.make_archive(zip_file_path.replace(\".zip\", \"\"), 'zip', folder_to_zip)\n",
        "print(f\"폴더가 압축되었습니다: {zip_file_path}\")"
      ],
      "metadata": {
        "colab": {
          "base_uri": "https://localhost:8080/"
        },
        "id": "-J2RA-Hs26tR",
        "outputId": "ab6ad8ef-2b62-4543-fdae-63f95422eefd"
      },
      "execution_count": 25,
      "outputs": [
        {
          "output_type": "stream",
          "name": "stdout",
          "text": [
            "폴더가 압축되었습니다: /content/output.zip\n"
          ]
        }
      ]
    },
    {
      "cell_type": "code",
      "source": [],
      "metadata": {
        "id": "3GoOCnCVAZ-o"
      },
      "execution_count": null,
      "outputs": []
    }
  ]
}